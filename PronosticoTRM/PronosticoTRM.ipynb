{
  "nbformat": 4,
  "nbformat_minor": 0,
  "metadata": {
    "colab": {
      "provenance": []
    },
    "kernelspec": {
      "name": "python3",
      "display_name": "Python 3"
    },
    "language_info": {
      "name": "python"
    }
  },
  "cells": [
    {
      "cell_type": "code",
      "execution_count": 93,
      "metadata": {
        "id": "jwIa-kJWJih5"
      },
      "outputs": [],
      "source": [
        "import pandas as pd\n",
        "import numpy as np\n",
        "import matplotlib.pyplot as plt"
      ]
    },
    {
      "cell_type": "code",
      "source": [
        "datos= pd.read_csv('datosusdcop.csv')\n",
        "datos"
      ],
      "metadata": {
        "colab": {
          "base_uri": "https://localhost:8080/",
          "height": 424
        },
        "id": "7GS9olW2Jrjd",
        "outputId": "4ad06e4b-6f5d-4338-8274-d8a180bac2b4"
      },
      "execution_count": 94,
      "outputs": [
        {
          "output_type": "execute_result",
          "data": {
            "text/plain": [
              "          Fecha    Último  Apertura    Máximo    Mínimo   Vol.  % var.\n",
              "0    01.11.2022  4.937,48  4.938,75  4.938,75  4.937,48    NaN   0,16%\n",
              "1    31.10.2022  4.929,35  4.835,00  4.946,33  4.829,75    NaN   2,22%\n",
              "2    28.10.2022  4.822,08  4.800,00  4.867,71  4.760,04    NaN   0,73%\n",
              "3    27.10.2022  4.787,08  4.884,06  4.889,98  4.792,79    NaN  -1,73%\n",
              "4    26.10.2022  4.871,14  4.975,20  4.989,34  4.873,38    NaN  -1,86%\n",
              "..          ...       ...       ...       ...       ...    ...     ...\n",
              "212  07.01.2022  4.051,06  4.034,51  4.059,98  4.024,01  1,03K   0,41%\n",
              "213  06.01.2022  4.034,51  4.026,09  4.065,59  4.022,84  0,82K   0,22%\n",
              "214  05.01.2022  4.025,50  4.080,20  4.080,20  4.014,00  0,76K  -1,34%\n",
              "215  04.01.2022  4.080,20  4.070,00  4.091,50  4.065,93  0,66K   0,25%\n",
              "216  03.01.2022  4.070,00  4.068,81  4.105,50  4.034,81  0,62K   0,00%\n",
              "\n",
              "[217 rows x 7 columns]"
            ],
            "text/html": [
              "\n",
              "  <div id=\"df-45881550-5c08-4857-80b4-b1caff2e7fa8\">\n",
              "    <div class=\"colab-df-container\">\n",
              "      <div>\n",
              "<style scoped>\n",
              "    .dataframe tbody tr th:only-of-type {\n",
              "        vertical-align: middle;\n",
              "    }\n",
              "\n",
              "    .dataframe tbody tr th {\n",
              "        vertical-align: top;\n",
              "    }\n",
              "\n",
              "    .dataframe thead th {\n",
              "        text-align: right;\n",
              "    }\n",
              "</style>\n",
              "<table border=\"1\" class=\"dataframe\">\n",
              "  <thead>\n",
              "    <tr style=\"text-align: right;\">\n",
              "      <th></th>\n",
              "      <th>Fecha</th>\n",
              "      <th>Último</th>\n",
              "      <th>Apertura</th>\n",
              "      <th>Máximo</th>\n",
              "      <th>Mínimo</th>\n",
              "      <th>Vol.</th>\n",
              "      <th>% var.</th>\n",
              "    </tr>\n",
              "  </thead>\n",
              "  <tbody>\n",
              "    <tr>\n",
              "      <th>0</th>\n",
              "      <td>01.11.2022</td>\n",
              "      <td>4.937,48</td>\n",
              "      <td>4.938,75</td>\n",
              "      <td>4.938,75</td>\n",
              "      <td>4.937,48</td>\n",
              "      <td>NaN</td>\n",
              "      <td>0,16%</td>\n",
              "    </tr>\n",
              "    <tr>\n",
              "      <th>1</th>\n",
              "      <td>31.10.2022</td>\n",
              "      <td>4.929,35</td>\n",
              "      <td>4.835,00</td>\n",
              "      <td>4.946,33</td>\n",
              "      <td>4.829,75</td>\n",
              "      <td>NaN</td>\n",
              "      <td>2,22%</td>\n",
              "    </tr>\n",
              "    <tr>\n",
              "      <th>2</th>\n",
              "      <td>28.10.2022</td>\n",
              "      <td>4.822,08</td>\n",
              "      <td>4.800,00</td>\n",
              "      <td>4.867,71</td>\n",
              "      <td>4.760,04</td>\n",
              "      <td>NaN</td>\n",
              "      <td>0,73%</td>\n",
              "    </tr>\n",
              "    <tr>\n",
              "      <th>3</th>\n",
              "      <td>27.10.2022</td>\n",
              "      <td>4.787,08</td>\n",
              "      <td>4.884,06</td>\n",
              "      <td>4.889,98</td>\n",
              "      <td>4.792,79</td>\n",
              "      <td>NaN</td>\n",
              "      <td>-1,73%</td>\n",
              "    </tr>\n",
              "    <tr>\n",
              "      <th>4</th>\n",
              "      <td>26.10.2022</td>\n",
              "      <td>4.871,14</td>\n",
              "      <td>4.975,20</td>\n",
              "      <td>4.989,34</td>\n",
              "      <td>4.873,38</td>\n",
              "      <td>NaN</td>\n",
              "      <td>-1,86%</td>\n",
              "    </tr>\n",
              "    <tr>\n",
              "      <th>...</th>\n",
              "      <td>...</td>\n",
              "      <td>...</td>\n",
              "      <td>...</td>\n",
              "      <td>...</td>\n",
              "      <td>...</td>\n",
              "      <td>...</td>\n",
              "      <td>...</td>\n",
              "    </tr>\n",
              "    <tr>\n",
              "      <th>212</th>\n",
              "      <td>07.01.2022</td>\n",
              "      <td>4.051,06</td>\n",
              "      <td>4.034,51</td>\n",
              "      <td>4.059,98</td>\n",
              "      <td>4.024,01</td>\n",
              "      <td>1,03K</td>\n",
              "      <td>0,41%</td>\n",
              "    </tr>\n",
              "    <tr>\n",
              "      <th>213</th>\n",
              "      <td>06.01.2022</td>\n",
              "      <td>4.034,51</td>\n",
              "      <td>4.026,09</td>\n",
              "      <td>4.065,59</td>\n",
              "      <td>4.022,84</td>\n",
              "      <td>0,82K</td>\n",
              "      <td>0,22%</td>\n",
              "    </tr>\n",
              "    <tr>\n",
              "      <th>214</th>\n",
              "      <td>05.01.2022</td>\n",
              "      <td>4.025,50</td>\n",
              "      <td>4.080,20</td>\n",
              "      <td>4.080,20</td>\n",
              "      <td>4.014,00</td>\n",
              "      <td>0,76K</td>\n",
              "      <td>-1,34%</td>\n",
              "    </tr>\n",
              "    <tr>\n",
              "      <th>215</th>\n",
              "      <td>04.01.2022</td>\n",
              "      <td>4.080,20</td>\n",
              "      <td>4.070,00</td>\n",
              "      <td>4.091,50</td>\n",
              "      <td>4.065,93</td>\n",
              "      <td>0,66K</td>\n",
              "      <td>0,25%</td>\n",
              "    </tr>\n",
              "    <tr>\n",
              "      <th>216</th>\n",
              "      <td>03.01.2022</td>\n",
              "      <td>4.070,00</td>\n",
              "      <td>4.068,81</td>\n",
              "      <td>4.105,50</td>\n",
              "      <td>4.034,81</td>\n",
              "      <td>0,62K</td>\n",
              "      <td>0,00%</td>\n",
              "    </tr>\n",
              "  </tbody>\n",
              "</table>\n",
              "<p>217 rows × 7 columns</p>\n",
              "</div>\n",
              "      <button class=\"colab-df-convert\" onclick=\"convertToInteractive('df-45881550-5c08-4857-80b4-b1caff2e7fa8')\"\n",
              "              title=\"Convert this dataframe to an interactive table.\"\n",
              "              style=\"display:none;\">\n",
              "        \n",
              "  <svg xmlns=\"http://www.w3.org/2000/svg\" height=\"24px\"viewBox=\"0 0 24 24\"\n",
              "       width=\"24px\">\n",
              "    <path d=\"M0 0h24v24H0V0z\" fill=\"none\"/>\n",
              "    <path d=\"M18.56 5.44l.94 2.06.94-2.06 2.06-.94-2.06-.94-.94-2.06-.94 2.06-2.06.94zm-11 1L8.5 8.5l.94-2.06 2.06-.94-2.06-.94L8.5 2.5l-.94 2.06-2.06.94zm10 10l.94 2.06.94-2.06 2.06-.94-2.06-.94-.94-2.06-.94 2.06-2.06.94z\"/><path d=\"M17.41 7.96l-1.37-1.37c-.4-.4-.92-.59-1.43-.59-.52 0-1.04.2-1.43.59L10.3 9.45l-7.72 7.72c-.78.78-.78 2.05 0 2.83L4 21.41c.39.39.9.59 1.41.59.51 0 1.02-.2 1.41-.59l7.78-7.78 2.81-2.81c.8-.78.8-2.07 0-2.86zM5.41 20L4 18.59l7.72-7.72 1.47 1.35L5.41 20z\"/>\n",
              "  </svg>\n",
              "      </button>\n",
              "      \n",
              "  <style>\n",
              "    .colab-df-container {\n",
              "      display:flex;\n",
              "      flex-wrap:wrap;\n",
              "      gap: 12px;\n",
              "    }\n",
              "\n",
              "    .colab-df-convert {\n",
              "      background-color: #E8F0FE;\n",
              "      border: none;\n",
              "      border-radius: 50%;\n",
              "      cursor: pointer;\n",
              "      display: none;\n",
              "      fill: #1967D2;\n",
              "      height: 32px;\n",
              "      padding: 0 0 0 0;\n",
              "      width: 32px;\n",
              "    }\n",
              "\n",
              "    .colab-df-convert:hover {\n",
              "      background-color: #E2EBFA;\n",
              "      box-shadow: 0px 1px 2px rgba(60, 64, 67, 0.3), 0px 1px 3px 1px rgba(60, 64, 67, 0.15);\n",
              "      fill: #174EA6;\n",
              "    }\n",
              "\n",
              "    [theme=dark] .colab-df-convert {\n",
              "      background-color: #3B4455;\n",
              "      fill: #D2E3FC;\n",
              "    }\n",
              "\n",
              "    [theme=dark] .colab-df-convert:hover {\n",
              "      background-color: #434B5C;\n",
              "      box-shadow: 0px 1px 3px 1px rgba(0, 0, 0, 0.15);\n",
              "      filter: drop-shadow(0px 1px 2px rgba(0, 0, 0, 0.3));\n",
              "      fill: #FFFFFF;\n",
              "    }\n",
              "  </style>\n",
              "\n",
              "      <script>\n",
              "        const buttonEl =\n",
              "          document.querySelector('#df-45881550-5c08-4857-80b4-b1caff2e7fa8 button.colab-df-convert');\n",
              "        buttonEl.style.display =\n",
              "          google.colab.kernel.accessAllowed ? 'block' : 'none';\n",
              "\n",
              "        async function convertToInteractive(key) {\n",
              "          const element = document.querySelector('#df-45881550-5c08-4857-80b4-b1caff2e7fa8');\n",
              "          const dataTable =\n",
              "            await google.colab.kernel.invokeFunction('convertToInteractive',\n",
              "                                                     [key], {});\n",
              "          if (!dataTable) return;\n",
              "\n",
              "          const docLinkHtml = 'Like what you see? Visit the ' +\n",
              "            '<a target=\"_blank\" href=https://colab.research.google.com/notebooks/data_table.ipynb>data table notebook</a>'\n",
              "            + ' to learn more about interactive tables.';\n",
              "          element.innerHTML = '';\n",
              "          dataTable['output_type'] = 'display_data';\n",
              "          await google.colab.output.renderOutput(dataTable, element);\n",
              "          const docLink = document.createElement('div');\n",
              "          docLink.innerHTML = docLinkHtml;\n",
              "          element.appendChild(docLink);\n",
              "        }\n",
              "      </script>\n",
              "    </div>\n",
              "  </div>\n",
              "  "
            ]
          },
          "metadata": {},
          "execution_count": 94
        }
      ]
    },
    {
      "cell_type": "code",
      "source": [
        "ultimo= datos.loc[:,'Último']\n",
        "ul= ultimo.to_numpy()\n",
        "for i in range(len(ul)):\n",
        "  a=  ul[i].replace(\".\", \"\")\n",
        "  a= a.replace(',','.')\n",
        "  ul[i]= float(a)"
      ],
      "metadata": {
        "id": "E6aQxPAZOlWb"
      },
      "execution_count": 95,
      "outputs": []
    },
    {
      "cell_type": "code",
      "source": [
        "ul= ul[::-1]"
      ],
      "metadata": {
        "id": "YYWGIt-BRwyK"
      },
      "execution_count": 96,
      "outputs": []
    },
    {
      "cell_type": "code",
      "source": [
        "plt.plot(ul)\n",
        "plt.show()"
      ],
      "metadata": {
        "id": "ikR-rvQJSJ5J",
        "outputId": "029efaac-3095-4cd8-afb1-8bd1de303094",
        "colab": {
          "base_uri": "https://localhost:8080/",
          "height": 265
        }
      },
      "execution_count": 97,
      "outputs": [
        {
          "output_type": "display_data",
          "data": {
            "text/plain": [
              "<Figure size 432x288 with 1 Axes>"
            ],
            "image/png": "[encoded data removed]"
          },
          "metadata": {
            "needs_background": "light"
          }
        }
      ]
    },
    {
      "cell_type": "code",
      "source": [
        "rend= [np.log(ul[i]/ul[i-1]) for i in range(1,len(ul))]\n",
        "rend"
      ],
      "metadata": {
        "id": "GtaMYJpfSNK6",
        "colab": {
          "base_uri": "https://localhost:8080/"
        },
        "outputId": "d6df63b8-484c-44c9-f0a8-ef85ceccd7f5"
      },
      "execution_count": 98,
      "outputs": [
        {
          "output_type": "execute_result",
          "data": {
            "text/plain": [
              "[0.002503007367988189,\n",
              " -0.013496880064593295,\n",
              " 0.0022357301673402883,\n",
              " 0.004093718343369448,\n",
              " 0.0,\n",
              " -0.014711267233350037,\n",
              " -0.004365837967639671,\n",
              " -0.0017905017557473806,\n",
              " 0.009996747685816574,\n",
              " 0.0,\n",
              " 0.00744118941757933,\n",
              " -0.010665539280772669,\n",
              " -0.004856102308093057,\n",
              " -0.004685160320706108,\n",
              " 0.005059931909357685,\n",
              " -0.002102044287565051,\n",
              " -0.00966056524631786,\n",
              " 0.00836441166484786,\n",
              " -0.0012624638402856361,\n",
              " -0.0025879781045864783,\n",
              " -0.005657116502031971,\n",
              " 0.00241714406308485,\n",
              " 0.005428680343496586,\n",
              " -0.0009811632628395608,\n",
              " 0.0032987491646961327,\n",
              " -0.004448034911459361,\n",
              " -0.0026097788893065473,\n",
              " -0.0034877854869365256,\n",
              " 0.0012683052763447769,\n",
              " 0.0040361401880486735,\n",
              " 0.0015476448369989785,\n",
              " 0.0033883391291745493,\n",
              " -0.00776135015393677,\n",
              " -0.0004424238797984888,\n",
              " 0.0007626776455173954,\n",
              " -0.0012714527550038096,\n",
              " -0.004335071598233835,\n",
              " 0.00357142325680407,\n",
              " -0.003433431597414359,\n",
              " 0.0059766614951041195,\n",
              " -0.013810925888886176,\n",
              " -0.011656622968744357,\n",
              " -0.020683992966326524,\n",
              " 0.01859740401570595,\n",
              " -0.004448510676344603,\n",
              " -0.01106277443025016,\n",
              " -0.007466028476132047,\n",
              " 0.02088636167336951,\n",
              " -0.0005234218297418192,\n",
              " -0.0058811189225526465,\n",
              " 0.008234362646145061,\n",
              " 0.0015657582380524506,\n",
              " -0.0026109607235827986,\n",
              " -0.001635319061889095,\n",
              " -0.004922064284452709,\n",
              " -0.010446452595950478,\n",
              " 0.006094904492443985,\n",
              " 0.0009246393244750783,\n",
              " 0.0020153904516982688,\n",
              " -0.002493454328551325,\n",
              " -0.007970494496009005,\n",
              " -0.0003862109425607669,\n",
              " 0.005131071176104044,\n",
              " -0.006370616834798052,\n",
              " -0.011951478264120817,\n",
              " 0.009788593575817194,\n",
              " 0.0029521065192559715,\n",
              " 0.004637405837349714,\n",
              " -0.0033056739365258203,\n",
              " -0.004802557783151228,\n",
              " 0.00382523973748979,\n",
              " -0.008113629347909707,\n",
              " 0.004906009440943574,\n",
              " -0.004906009440943476,\n",
              " 0.0025484487041951185,\n",
              " 0.004538901136403788,\n",
              " 0.0026395394668772285,\n",
              " 0.0038787264510220794,\n",
              " 0.021494873454552123,\n",
              " 0.020659033536452407,\n",
              " 0.002080902136461025,\n",
              " 0.002607695440771426,\n",
              " 0.0075441638924033045,\n",
              " -0.0067859179316464725,\n",
              " 0.013047406594493974,\n",
              " 0.004980122183723715,\n",
              " 0.009446555599995006,\n",
              " 0.004904074071776272,\n",
              " -0.007488372827320024,\n",
              " 0.00816080614421854,\n",
              " -0.0031827667949981295,\n",
              " 0.0014090117808793737,\n",
              " 0.006402478383111736,\n",
              " 0.00012651329379654438,\n",
              " -0.013593988042674759,\n",
              " -0.006060249825857686,\n",
              " 0.01047957010560228,\n",
              " -0.004488373218714619,\n",
              " -0.02061188844548023,\n",
              " 0.002012073113420235,\n",
              " -0.0009225359582335904,\n",
              " -0.009787882683458326,\n",
              " -0.003969672880499819,\n",
              " 0.0029278870130056123,\n",
              " -0.03452854805482,\n",
              " -0.007926065272420716,\n",
              " 0.008452242606317956,\n",
              " -0.00739179711987891,\n",
              " 0.00039737731498475375,\n",
              " 0.0046244384454186705,\n",
              " -0.0015831137871040553,\n",
              " 0.004741842393991475,\n",
              " 0.01180390913989786,\n",
              " 0.024176951022490005,\n",
              " 0.006721100673077382,\n",
              " -0.000528973928882546,\n",
              " -0.018127999126845706,\n",
              " 0.00010262199198300052,\n",
              " 0.0017916213835390809,\n",
              " 0.0,\n",
              " 0.029648377415493195,\n",
              " -0.0004326603956960597,\n",
              " 0.020006157993714652,\n",
              " 0.00933945600919808,\n",
              " -0.001813017962022468,\n",
              " -0.008992647792388675,\n",
              " 0.005113855050560974,\n",
              " 0.008313657458989779,\n",
              " 0.012847783713882146,\n",
              " 0.0,\n",
              " 0.017666825633065823,\n",
              " 0.01702710969282782,\n",
              " 0.009487411850607082,\n",
              " 0.005785280726581664,\n",
              " 0.03520161487251111,\n",
              " 0.010411057702876345,\n",
              " -0.029923699793257083,\n",
              " 0.0003562522303443405,\n",
              " -0.030055363619941208,\n",
              " -0.012314559549827287,\n",
              " 0.003928959361252723,\n",
              " 0.007697132003033093,\n",
              " 0.01606629454046708,\n",
              " 0.008648714717281222,\n",
              " 0.0006269031192240089,\n",
              " -0.005039760968367656,\n",
              " -0.004586078019425839,\n",
              " -0.012278462578715397,\n",
              " -0.01940462826533746,\n",
              " -0.0022184608316285406,\n",
              " 0.010812172992750252,\n",
              " -0.004264398786457428,\n",
              " -0.0024649455542857055,\n",
              " 0.011597217976020495,\n",
              " -0.00663631892948051,\n",
              " 0.00776568946576646,\n",
              " -0.01762564732571491,\n",
              " -0.010111761380227806,\n",
              " -0.01644260458301221,\n",
              " 0.00024023966424334119,\n",
              " 0.021856391701523873,\n",
              " 0.020827424009795717,\n",
              " 0.010407041051946796,\n",
              " -0.0029656688783216826,\n",
              " 0.005236437250580992,\n",
              " -0.009586758936911232,\n",
              " 0.01208818460037457,\n",
              " -0.0035428816128293046,\n",
              " 0.0012982423261010065,\n",
              " -0.007780507332650467,\n",
              " 0.012628872548379428,\n",
              " 0.0004521306734645111,\n",
              " 0.014249890495127345,\n",
              " -0.00033428046441986943,\n",
              " -0.0048036734275129864,\n",
              " 0.0035770214755437148,\n",
              " -0.01817351538588312,\n",
              " -0.000579673921245009,\n",
              " -0.010227783926717278,\n",
              " 0.001893450948686416,\n",
              " 0.011682708740568403,\n",
              " -0.004542881180299897,\n",
              " 0.005808934920011805,\n",
              " 0.0038652345742653882,\n",
              " -0.006378524713542335,\n",
              " 0.00435853858412645,\n",
              " -0.004131652593363058,\n",
              " -0.009779973314020914,\n",
              " 0.016677636000512003,\n",
              " 0.02296063833727518,\n",
              " 0.0014367865983595993,\n",
              " -0.01417166271163059,\n",
              " 0.008591196347511805,\n",
              " 0.01781803366862542,\n",
              " -0.01752622293676243,\n",
              " -0.00743450012509192,\n",
              " 0.018838806284671248,\n",
              " 0.006881815030811392,\n",
              " 0.0014097094429792495,\n",
              " -0.003034422814803706,\n",
              " 0.00026734684499781083,\n",
              " 0.00014125199270268948,\n",
              " -0.007021505407267884,\n",
              " 0.026410632052790164,\n",
              " 0.007854616097217678,\n",
              " 0.005714084386098033,\n",
              " 0.016245837136463805,\n",
              " 0.011951145600126096,\n",
              " 0.0028779641442951602,\n",
              " 0.014548139150174291,\n",
              " -0.002977360196565163,\n",
              " -0.018773067517193435,\n",
              " -0.0174073737440208,\n",
              " 0.007284748048784573,\n",
              " 0.022001763272734225,\n",
              " 0.0016479460657380534]"
            ]
          },
          "metadata": {},
          "execution_count": 98
        }
      ]
    },
    {
      "cell_type": "code",
      "source": [
        "plt.plot(rend)\n",
        "plt.show()"
      ],
      "metadata": {
        "colab": {
          "base_uri": "https://localhost:8080/",
          "height": 265
        },
        "id": "wgdXZ9yzzU0I",
        "outputId": "803061c7-595f-4553-d007-d82f5109de5c"
      },
      "execution_count": 99,
      "outputs": [
        {
          "output_type": "display_data",
          "data": {
            "text/plain": [
              "<Figure size 432x288 with 1 Axes>"
            ],
            "image/png": "[encoded data removed]"
          },
          "metadata": {
            "needs_background": "light"
          }
        }
      ]
    },
    {
      "cell_type": "code",
      "source": [
        "def MBEU(numTrayectorias, numPuntos):\n",
        "  delta_t = 1/numPuntos\n",
        "  mb = np.zeros((numTrayectorias, numPuntos+1))\n",
        "  for i in range(numTrayectorias):\n",
        "    for j in range(1, numPuntos+1):\n",
        "      mb[i,j] = mb[i,j-1] + np.sqrt(delta_t) * np.random.normal(0, 1)\n",
        "  return mb"
      ],
      "metadata": {
        "id": "LwkdMwAz0nNi"
      },
      "execution_count": 100,
      "outputs": []
    },
    {
      "cell_type": "code",
      "source": [
        "def milstein(numTrayectorias, numPuntos,mb,s0, mu, sigma):\n",
        "  delta_t = 1/numPuntos\n",
        "  st= np.zeros((numTrayectorias,numPuntos+1))\n",
        "  st[:,0]= s0\n",
        "\n",
        "  for i in range(numTrayectorias):\n",
        "    for j in range(1,numPuntos+1):\n",
        "      st[i,j]= st[i,j-1] + mu*st[i,j-1]*delta_t +sigma*st[i,j-1]*(mb[i,j]-mb[i,j-1]) + (1/2)*(sigma**2)*st[i,j-1]*((mb[i,j]-mb[i,j-1])**2-delta_t)\n",
        "  return st"
      ],
      "metadata": {
        "id": "lyPkW8RV2hVt"
      },
      "execution_count": 101,
      "outputs": []
    },
    {
      "cell_type": "code",
      "source": [
        "def mediana(St, numTrayectorias):\n",
        "    I = []\n",
        "    for i in range(numTrayectorias):\n",
        "        suma = 0\n",
        "        for j in range(numTrayectorias):\n",
        "            suma += np.linalg.norm(St[i,:]-St[j,:],np.inf)\n",
        "        I.append(suma)\n",
        "    index = np.argmin(I)\n",
        "    new_s = St[index,:]\n",
        "    return new_s"
      ],
      "metadata": {
        "id": "L4iEGLKe3l6t"
      },
      "execution_count": 102,
      "outputs": []
    },
    {
      "cell_type": "code",
      "source": [
        "trayectorias= 10000\n",
        "prediccion_dias=7\n",
        "delta_t= 1/len(ul)\n",
        "s0= ul[-1]\n",
        "last= len(ul)-1\n",
        "s0,last"
      ],
      "metadata": {
        "colab": {
          "base_uri": "https://localhost:8080/"
        },
        "id": "wfc7kW4-01Cb",
        "outputId": "2d8e6624-59a6-4555-b004-485b3d7aa808"
      },
      "execution_count": 103,
      "outputs": [
        {
          "output_type": "execute_result",
          "data": {
            "text/plain": [
              "(4937.48, 216)"
            ]
          },
          "metadata": {},
          "execution_count": 103
        }
      ]
    },
    {
      "cell_type": "code",
      "source": [
        "mb= MBEU(trayectorias,prediccion_dias)"
      ],
      "metadata": {
        "id": "in8nUMs51GYG"
      },
      "execution_count": 104,
      "outputs": []
    },
    {
      "cell_type": "code",
      "source": [
        "mu_es= np.mean(rend)/delta_t\n",
        "sigma_est= np.sqrt(np.var(rend)/delta_t)\n",
        "mu_es, sigma_est"
      ],
      "metadata": {
        "colab": {
          "base_uri": "https://localhost:8080/"
        },
        "id": "LwzM4K0z2iyU",
        "outputId": "14b323d4-16bd-4856-ff37-993bfeb59ef0"
      },
      "execution_count": 107,
      "outputs": [
        {
          "output_type": "execute_result",
          "data": {
            "text/plain": [
              "(0.1941065805026014, 0.15482262083338827)"
            ]
          },
          "metadata": {},
          "execution_count": 107
        }
      ]
    },
    {
      "cell_type": "code",
      "source": [
        "mu_est = mu_es - mu_es*0.5\n",
        "mu_est"
      ],
      "metadata": {
        "colab": {
          "base_uri": "https://localhost:8080/"
        },
        "id": "vl0QN-6PESk_",
        "outputId": "77019aaf-656f-4e24-f03e-b8d393b605e2"
      },
      "execution_count": 108,
      "outputs": [
        {
          "output_type": "execute_result",
          "data": {
            "text/plain": [
              "0.0970532902513007"
            ]
          },
          "metadata": {},
          "execution_count": 108
        }
      ]
    },
    {
      "cell_type": "code",
      "source": [
        "estim_m= milstein(trayectorias, prediccion_dias, mb, s0, mu_est, sigma_est)"
      ],
      "metadata": {
        "id": "hLOhnOgg22Pz"
      },
      "execution_count": 109,
      "outputs": []
    },
    {
      "cell_type": "code",
      "source": [
        "upper= []\n",
        "for i in range(len(estim_m[0])):\n",
        "  upper.append(np.percentile(estim_m[:,i], 97.5))\n",
        "lower= []\n",
        "for i in range(len(estim_m[0])):\n",
        "  lower.append(np.percentile(estim_m[:,i], 2.5))"
      ],
      "metadata": {
        "id": "5LtR-3qq2xO8"
      },
      "execution_count": 111,
      "outputs": []
    },
    {
      "cell_type": "code",
      "source": [
        "plt.figure(figsize=(10,7))\n",
        "plt.plot(ul)\n",
        "\n",
        "for Xi in estim_m:\n",
        "    plt.plot(range(last, last+prediccion_dias+1), Xi)\n",
        "    \n",
        "plt.plot(range(last, last+prediccion_dias+1), upper, 'ok')\n",
        "plt.plot(range(last, last+prediccion_dias+1), lower, 'ok')\n",
        "\n",
        "plt.title('Ultimo valor del dolar en el dia', fontsize=15)\n",
        "plt.xlabel('Días', fontsize=12)\n",
        "plt.ylabel('Dolar', fontsize = 12)\n",
        "plt.show()"
      ],
      "metadata": {
        "colab": {
          "base_uri": "https://localhost:8080/",
          "height": 463
        },
        "id": "cNkWjUz03Duc",
        "outputId": "512c3b8a-0eca-466e-c2bd-506d61beeb06"
      },
      "execution_count": 112,
      "outputs": [
        {
          "output_type": "display_data",
          "data": {
            "text/plain": [
              "<Figure size 720x504 with 1 Axes>"
            ],
            "image/png": "[encoded data removed]"
          },
          "metadata": {
            "needs_background": "light"
          }
        }
      ]
    },
    {
      "cell_type": "code",
      "source": [
        "means = []\n",
        "for i in range(len(estim_m[0])):\n",
        "    means.append(np.mean(estim_m[:, i]))\n",
        "means[-1]"
      ],
      "metadata": {
        "colab": {
          "base_uri": "https://localhost:8080/"
        },
        "id": "5hE1b47K3Xom",
        "outputId": "7bcce461-b65d-4a5e-e53e-be640ecc2591"
      },
      "execution_count": 113,
      "outputs": [
        {
          "output_type": "execute_result",
          "data": {
            "text/plain": [
              "5421.944389215199"
            ]
          },
          "metadata": {},
          "execution_count": 113
        }
      ]
    },
    {
      "cell_type": "code",
      "source": [
        "medians = mediana(estim_m, trayectorias)"
      ],
      "metadata": {
        "id": "WvUh_NZgEm8I"
      },
      "execution_count": 114,
      "outputs": []
    },
    {
      "cell_type": "code",
      "source": [
        "medians[-1]"
      ],
      "metadata": {
        "colab": {
          "base_uri": "https://localhost:8080/"
        },
        "id": "fN4_36kzGlS2",
        "outputId": "1e957759-e3c2-40f5-b9bd-eed9118138f3"
      },
      "execution_count": 115,
      "outputs": [
        {
          "output_type": "execute_result",
          "data": {
            "text/plain": [
              "5310.268552801594"
            ]
          },
          "metadata": {},
          "execution_count": 115
        }
      ]
    },
    {
      "cell_type": "code",
      "source": [
        "from __future__ import unicode_literals\n",
        "upper2 = []\n",
        "for i in range(len(estim_m[0])):\n",
        "    upper2.append(np.percentile(estim_m[:,i], 60.5))\n",
        "\n",
        "lower2 = []\n",
        "for i in range(len(estim_m[0])):\n",
        "    lower2.append(np.percentile(estim_m[:, i], 30.5))\n",
        "\n",
        "plt.figure(figsize=(10,7))\n",
        "\n",
        "plt.plot(ul)\n",
        "\n",
        "\n",
        "#plt.plot(range(last, last+prediccion_dias+1), means, label='Trayectoria Media', color = 'r')\n",
        "plt.plot(range(last, last+prediccion_dias+1), medians, label='Trayectoria Mediana', color = 'green')\n",
        "#plt.plot(range(last, last+prediccion_dias+1), upper2, label = 'Banda Superior', color = 'black')\n",
        "\n",
        "#plt.plot(range(last, last+prediccion_dias+1), lower2, label = 'Banda Inferior', color = 'black')\n",
        "\n",
        "plt.xlabel('Días', fontsize=12)\n",
        "plt.ylabel('Precio de apertura (USD)', fontsize = 12)\n",
        "plt.legend()\n",
        "\n",
        "plt.show()"
      ],
      "metadata": {
        "colab": {
          "base_uri": "https://localhost:8080/",
          "height": 445
        },
        "id": "avND5p1X3xF1",
        "outputId": "53546cd4-c8a4-4d40-a845-78afdacc6bca"
      },
      "execution_count": 45,
      "outputs": [
        {
          "output_type": "display_data",
          "data": {
            "text/plain": [
              "<Figure size 720x504 with 1 Axes>"
            ],
            "image/png": "[encoded data removed]"
          },
          "metadata": {
            "needs_background": "light"
          }
        }
      ]
    },
    {
      "cell_type": "code",
      "source": [
        "print('El dolar dentro de 8 dias estara en',medians[-1]), ul[-1]"
      ],
      "metadata": {
        "colab": {
          "base_uri": "https://localhost:8080/"
        },
        "id": "BSTW8T5G6YIB",
        "outputId": "4999f450-acb8-49d0-ff96-eeeb3fef3c41"
      },
      "execution_count": 46,
      "outputs": [
        {
          "output_type": "stream",
          "name": "stdout",
          "text": [
            "El dolar dentro de 8 dias estara en 4937.535632989163\n"
          ]
        },
        {
          "output_type": "execute_result",
          "data": {
            "text/plain": [
              "(None, 4937.48)"
            ]
          },
          "metadata": {},
          "execution_count": 46
        }
      ]
    }
  ]
}